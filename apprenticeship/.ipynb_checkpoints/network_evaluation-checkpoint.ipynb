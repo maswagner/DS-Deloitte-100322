{
 "cells": [
  {
   "cell_type": "markdown",
   "metadata": {
    "slideshow": {
     "slide_type": "slide"
    }
   },
   "source": [
    "# Evaluation of Neural Networks"
   ]
  },
  {
   "cell_type": "markdown",
   "metadata": {},
   "source": [
    "## Learning Objectives\n",
    "\n",
    "- use `keras` to code up a neural network model;\n",
    "- explain dropout and early stopping as distinctive forms of regularization in neural networks;\n",
    "- use wrappers inside `keras` to make models that can jibe with `sklearn`."
   ]
  },
  {
   "cell_type": "code",
   "execution_count": 1,
   "metadata": {},
   "outputs": [],
   "source": [
    "from sklearn.datasets import load_sample_images\n",
    "from sklearn.datasets import load_digits\n",
    "from sklearn.model_selection import train_test_split, cross_val_score\n",
    "from sklearn.preprocessing import OneHotEncoder\n",
    "from sklearn.metrics import accuracy_score, confusion_matrix\n",
    "import matplotlib.pyplot as plt\n",
    "import matplotlib.image as mpimg\n",
    "import numpy as np\n",
    "import seaborn as sns\n",
    "\n",
    "from tensorflow.keras.models import Sequential\n",
    "from tensorflow.keras.layers import Dense, Dropout\n",
    "from tensorflow.keras.regularizers import l2\n",
    "from tensorflow.keras.optimizers import SGD\n",
    "from tensorflow.keras.wrappers import scikit_learn\n",
    "from tensorflow.keras.callbacks import EarlyStopping\n",
    "\n",
    "import os\n",
    "import sys\n",
    "module_path = os.path.abspath(os.path.join(os.pardir, os.pardir))\n",
    "if module_path not in sys.path:\n",
    "    sys.path.append(module_path)\n",
    "    \n",
    "%load_ext autoreload\n",
    "%autoreload 2"
   ]
  },
  {
   "cell_type": "markdown",
   "metadata": {},
   "source": [
    "### A few key notes regarding [Sequential Models](https://www.tensorflow.org/guide/keras/sequential_model):"
   ]
  },
  {
   "cell_type": "code",
   "execution_count": 2,
   "metadata": {},
   "outputs": [],
   "source": [
    "#Setup\n",
    "import tensorflow as tf\n",
    "from tensorflow import keras\n",
    "from tensorflow.keras import layers"
   ]
  },
  {
   "cell_type": "markdown",
   "metadata": {},
   "source": [
    "### When to Use a Sequential Model\n",
    "\n",
    "A `Sequential` model is appropriate for **a plain stack of layers** where each layer has **exactly one input tensor and one output tensor**.\n",
    "\n",
    "Schematically, this `Sequential` model:\n",
    "```\n",
    "# Define Sequential model with 3 layers\n",
    "model = keras.Sequential(\n",
    "    [\n",
    "        layers.Dense(2, activation=\"relu\", name=\"layer1\"),\n",
    "        layers.Dense(3, activation=\"relu\", name=\"layer2\"),\n",
    "        layers.Dense(4, name=\"layer3\"),\n",
    "    ]\n",
    ")\n",
    "# Call model on a test input\n",
    "x = tf.ones((3, 3))\n",
    "y = model(x)\n",
    "\n",
    "```\n",
    "\n",
    "...is equivalent to this function:\n",
    "```\n",
    "# Create 3 layers\n",
    "layer1 = layers.Dense(2, activation=\"relu\", name=\"layer1\")\n",
    "layer2 = layers.Dense(3, activation=\"relu\", name=\"layer2\")\n",
    "layer3 = layers.Dense(4, name=\"layer3\")\n",
    "\n",
    "# Call layers on a test input\n",
    "x = tf.ones((3, 3))\n",
    "y = layer3(layer2(layer1(x)))\n",
    "```\n",
    "\n",
    "A Sequential model is **not** appropriate when:\n",
    "\n",
    "- Your model has multiple inputs or multiple outputs\n",
    "- Any of your layers has multiple inputs or multiple outputs\n",
    "- You need to do layer sharing\n",
    "- You want non-linear topology (e.g. a residual connection, a multi-branch model)"
   ]
  },
  {
   "cell_type": "markdown",
   "metadata": {},
   "source": [
    "Let's demonstrate a few more concepts"
   ]
  },
  {
   "cell_type": "code",
   "execution_count": 3,
   "metadata": {},
   "outputs": [],
   "source": [
    "model = keras.Sequential()\n",
    "model.add(layers.Dense(2, activation=\"relu\"))\n",
    "model.add(layers.Dense(3, activation=\"relu\"))\n",
    "model.add(layers.Dense(4))"
   ]
  },
  {
   "cell_type": "markdown",
   "metadata": {},
   "source": [
    "We can view the layers added to the model"
   ]
  },
  {
   "cell_type": "code",
   "execution_count": null,
   "metadata": {},
   "outputs": [],
   "source": []
  },
  {
   "cell_type": "markdown",
   "metadata": {},
   "source": [
    "Generally, all layers in Keras need to know the shape of their inputs in order to be able to create their weights. So when you create a layer like this, initially, it has no weights:"
   ]
  },
  {
   "cell_type": "code",
   "execution_count": null,
   "metadata": {},
   "outputs": [],
   "source": [
    "# This will throw an error\n",
    "\n",
    "model.weights"
   ]
  },
  {
   "cell_type": "code",
   "execution_count": null,
   "metadata": {},
   "outputs": [],
   "source": [
    "# This will throw an error:\n",
    "\n",
    "model.summary()"
   ]
  },
  {
   "cell_type": "markdown",
   "metadata": {},
   "source": [
    "**Note**: *The model creates its weights the first time it is called on an input, since the shape of the weights depends on the shape of the inputs.*"
   ]
  },
  {
   "cell_type": "code",
   "execution_count": 4,
   "metadata": {},
   "outputs": [
    {
     "name": "stdout",
     "output_type": "stream",
     "text": [
      "Model: \"sequential\"\n",
      "_________________________________________________________________\n",
      "Layer (type)                 Output Shape              Param #   \n",
      "=================================================================\n",
      "dense (Dense)                (1, 2)                    10        \n",
      "_________________________________________________________________\n",
      "dense_1 (Dense)              (1, 3)                    9         \n",
      "_________________________________________________________________\n",
      "dense_2 (Dense)              (1, 4)                    16        \n",
      "=================================================================\n",
      "Total params: 35\n",
      "Trainable params: 35\n",
      "Non-trainable params: 0\n",
      "_________________________________________________________________\n"
     ]
    }
   ],
   "source": [
    "x = tf.ones((1, 4))\n",
    "y = model(x)\n",
    "\n",
    "model.summary()"
   ]
  },
  {
   "cell_type": "code",
   "execution_count": 5,
   "metadata": {},
   "outputs": [
    {
     "data": {
      "text/plain": [
       "<tf.Tensor: shape=(1, 4), dtype=float32, numpy=array([[1., 1., 1., 1.]], dtype=float32)>"
      ]
     },
     "execution_count": 5,
     "metadata": {},
     "output_type": "execute_result"
    }
   ],
   "source": [
    "x"
   ]
  },
  {
   "cell_type": "code",
   "execution_count": 6,
   "metadata": {},
   "outputs": [
    {
     "data": {
      "text/plain": [
       "[<tf.Variable 'dense/kernel:0' shape=(4, 2) dtype=float32, numpy=\n",
       " array([[-0.993623  , -0.11938   ],\n",
       "        [-0.8209498 ,  0.6662872 ],\n",
       "        [ 0.1769321 , -0.74583244],\n",
       "        [-0.19834113, -0.9832969 ]], dtype=float32)>,\n",
       " <tf.Variable 'dense/bias:0' shape=(2,) dtype=float32, numpy=array([0., 0.], dtype=float32)>,\n",
       " <tf.Variable 'dense_1/kernel:0' shape=(2, 3) dtype=float32, numpy=\n",
       " array([[-0.639755  , -1.0458899 ,  0.42493165],\n",
       "        [-0.57058734, -1.0434213 , -0.0850476 ]], dtype=float32)>,\n",
       " <tf.Variable 'dense_1/bias:0' shape=(3,) dtype=float32, numpy=array([0., 0., 0.], dtype=float32)>,\n",
       " <tf.Variable 'dense_2/kernel:0' shape=(3, 4) dtype=float32, numpy=\n",
       " array([[ 0.67712784, -0.43457812, -0.47046396,  0.77966   ],\n",
       "        [ 0.30716705, -0.5744277 ,  0.67584383, -0.19063556],\n",
       "        [-0.18741667, -0.28950685,  0.396124  , -0.20794171]],\n",
       "       dtype=float32)>,\n",
       " <tf.Variable 'dense_2/bias:0' shape=(4,) dtype=float32, numpy=array([0., 0., 0., 0.], dtype=float32)>]"
      ]
     },
     "execution_count": 6,
     "metadata": {},
     "output_type": "execute_result"
    }
   ],
   "source": [
    "model.weights"
   ]
  },
  {
   "cell_type": "markdown",
   "metadata": {},
   "source": [
    "It can be helpful to note that there's also a corresponding `pop()` method to remove layers; a `Sequential` model behaves very much like a list of layers:"
   ]
  },
  {
   "cell_type": "code",
   "execution_count": null,
   "metadata": {},
   "outputs": [],
   "source": []
  },
  {
   "cell_type": "code",
   "execution_count": null,
   "metadata": {},
   "outputs": [],
   "source": []
  },
  {
   "cell_type": "markdown",
   "metadata": {},
   "source": [
    "And of course, we can still add layers to our Sequential model"
   ]
  },
  {
   "cell_type": "code",
   "execution_count": null,
   "metadata": {},
   "outputs": [],
   "source": []
  },
  {
   "cell_type": "markdown",
   "metadata": {},
   "source": [
    "### From last time"
   ]
  },
  {
   "cell_type": "code",
   "execution_count": 7,
   "metadata": {},
   "outputs": [],
   "source": [
    "digits = load_digits()\n",
    "X = digits.data\n",
    "y = digits.target\n",
    "\n",
    "y_binary = y % 2"
   ]
  },
  {
   "cell_type": "code",
   "execution_count": 8,
   "metadata": {},
   "outputs": [],
   "source": [
    "y_binary = np.asarray(y_binary).astype('float32')"
   ]
  },
  {
   "cell_type": "code",
   "execution_count": 9,
   "metadata": {},
   "outputs": [
    {
     "name": "stdout",
     "output_type": "stream",
     "text": [
      "Epoch 1/50\n",
      "180/180 [==============================] - 0s 700us/step - loss: 0.6233 - accuracy: 0.7040\n",
      "Epoch 2/50\n",
      "180/180 [==============================] - 0s 706us/step - loss: 0.2860 - accuracy: 0.8787\n",
      "Epoch 3/50\n",
      "180/180 [==============================] - 0s 806us/step - loss: 0.2155 - accuracy: 0.9093\n",
      "Epoch 4/50\n",
      "180/180 [==============================] - 0s 672us/step - loss: 0.1783 - accuracy: 0.9260\n",
      "Epoch 5/50\n",
      "180/180 [==============================] - 0s 572us/step - loss: 0.1534 - accuracy: 0.9360\n",
      "Epoch 6/50\n",
      "180/180 [==============================] - 0s 544us/step - loss: 0.1328 - accuracy: 0.9449\n",
      "Epoch 7/50\n",
      "180/180 [==============================] - 0s 578us/step - loss: 0.1157 - accuracy: 0.9549\n",
      "Epoch 8/50\n",
      "180/180 [==============================] - 0s 661us/step - loss: 0.1067 - accuracy: 0.9555\n",
      "Epoch 9/50\n",
      "180/180 [==============================] - 0s 778us/step - loss: 0.0962 - accuracy: 0.9610\n",
      "Epoch 10/50\n",
      "180/180 [==============================] - 0s 694us/step - loss: 0.0889 - accuracy: 0.9683\n",
      "Epoch 11/50\n",
      "180/180 [==============================] - 0s 639us/step - loss: 0.0887 - accuracy: 0.9633\n",
      "Epoch 12/50\n",
      "180/180 [==============================] - 0s 561us/step - loss: 0.0788 - accuracy: 0.9694\n",
      "Epoch 13/50\n",
      "180/180 [==============================] - 0s 500us/step - loss: 0.0729 - accuracy: 0.9744\n",
      "Epoch 14/50\n",
      "180/180 [==============================] - 0s 500us/step - loss: 0.0659 - accuracy: 0.9789\n",
      "Epoch 15/50\n",
      "180/180 [==============================] - 0s 550us/step - loss: 0.0607 - accuracy: 0.9827\n",
      "Epoch 16/50\n",
      "180/180 [==============================] - 0s 589us/step - loss: 0.0622 - accuracy: 0.9783\n",
      "Epoch 17/50\n",
      "180/180 [==============================] - 0s 489us/step - loss: 0.0647 - accuracy: 0.9777\n",
      "Epoch 18/50\n",
      "180/180 [==============================] - 0s 550us/step - loss: 0.0519 - accuracy: 0.9816\n",
      "Epoch 19/50\n",
      "180/180 [==============================] - 0s 550us/step - loss: 0.0465 - accuracy: 0.9850\n",
      "Epoch 20/50\n",
      "180/180 [==============================] - 0s 711us/step - loss: 0.0438 - accuracy: 0.9827\n",
      "Epoch 21/50\n",
      "180/180 [==============================] - 0s 739us/step - loss: 0.0434 - accuracy: 0.9878\n",
      "Epoch 22/50\n",
      "180/180 [==============================] - 0s 706us/step - loss: 0.0370 - accuracy: 0.9861\n",
      "Epoch 23/50\n",
      "180/180 [==============================] - 0s 589us/step - loss: 0.0340 - accuracy: 0.9889\n",
      "Epoch 24/50\n",
      "180/180 [==============================] - 0s 572us/step - loss: 0.0312 - accuracy: 0.9905\n",
      "Epoch 25/50\n",
      "180/180 [==============================] - 0s 622us/step - loss: 0.0318 - accuracy: 0.9905\n",
      "Epoch 26/50\n",
      "180/180 [==============================] - 0s 500us/step - loss: 0.0290 - accuracy: 0.9905\n",
      "Epoch 27/50\n",
      "180/180 [==============================] - 0s 483us/step - loss: 0.0283 - accuracy: 0.9917\n",
      "Epoch 28/50\n",
      "180/180 [==============================] - 0s 494us/step - loss: 0.0241 - accuracy: 0.9939\n",
      "Epoch 29/50\n",
      "180/180 [==============================] - 0s 622us/step - loss: 0.0203 - accuracy: 0.9944\n",
      "Epoch 30/50\n",
      "180/180 [==============================] - 0s 667us/step - loss: 0.0232 - accuracy: 0.9922\n",
      "Epoch 31/50\n",
      "180/180 [==============================] - 0s 711us/step - loss: 0.0171 - accuracy: 0.9967\n",
      "Epoch 32/50\n",
      "180/180 [==============================] - 0s 628us/step - loss: 0.0127 - accuracy: 0.9978\n",
      "Epoch 33/50\n",
      "180/180 [==============================] - 0s 628us/step - loss: 0.0143 - accuracy: 0.9967\n",
      "Epoch 34/50\n",
      "180/180 [==============================] - 0s 606us/step - loss: 0.0108 - accuracy: 0.9983\n",
      "Epoch 35/50\n",
      "180/180 [==============================] - 0s 500us/step - loss: 0.0115 - accuracy: 0.9972\n",
      "Epoch 36/50\n",
      "180/180 [==============================] - 0s 511us/step - loss: 0.0103 - accuracy: 0.9983\n",
      "Epoch 37/50\n",
      "180/180 [==============================] - 0s 650us/step - loss: 0.0091 - accuracy: 0.9983\n",
      "Epoch 38/50\n",
      "180/180 [==============================] - 0s 694us/step - loss: 0.0117 - accuracy: 0.9978\n",
      "Epoch 39/50\n",
      "180/180 [==============================] - 0s 622us/step - loss: 0.0083 - accuracy: 0.9983\n",
      "Epoch 40/50\n",
      "180/180 [==============================] - 0s 622us/step - loss: 0.0073 - accuracy: 0.9989\n",
      "Epoch 41/50\n",
      "180/180 [==============================] - 0s 506us/step - loss: 0.0060 - accuracy: 0.9994\n",
      "Epoch 42/50\n",
      "180/180 [==============================] - 0s 483us/step - loss: 0.0162 - accuracy: 0.9933\n",
      "Epoch 43/50\n",
      "180/180 [==============================] - 0s 533us/step - loss: 0.0174 - accuracy: 0.9933\n",
      "Epoch 44/50\n",
      "180/180 [==============================] - 0s 556us/step - loss: 0.0061 - accuracy: 0.9989\n",
      "Epoch 45/50\n",
      "180/180 [==============================] - 0s 622us/step - loss: 0.0043 - accuracy: 0.9994\n",
      "Epoch 46/50\n",
      "180/180 [==============================] - 0s 689us/step - loss: 0.0032 - accuracy: 1.0000\n",
      "Epoch 47/50\n",
      "180/180 [==============================] - 0s 867us/step - loss: 0.0036 - accuracy: 1.0000\n",
      "Epoch 48/50\n",
      "180/180 [==============================] - 0s 672us/step - loss: 0.0028 - accuracy: 1.0000\n",
      "Epoch 49/50\n",
      "180/180 [==============================] - 0s 567us/step - loss: 0.0029 - accuracy: 1.0000\n",
      "Epoch 50/50\n",
      "180/180 [==============================] - 0s 494us/step - loss: 0.0026 - accuracy: 1.0000\n"
     ]
    },
    {
     "data": {
      "text/plain": [
       "<tensorflow.python.keras.callbacks.History at 0x24d14f27d90>"
      ]
     },
     "execution_count": 9,
     "metadata": {},
     "output_type": "execute_result"
    }
   ],
   "source": [
    "#Set up, compile, and fit a simple neural network model.\n",
    "\n",
    "model = Sequential()\n",
    "\n",
    "#Here, we implicitly define our input layer.\n",
    "#Alternatively, we could have instantiated our model as\n",
    "#model = Sequential([tf.keras.layers.InputLayer(input_shape=(64,))]\n",
    "model.add(Dense(12, activation='relu', input_dim=64))\n",
    "\n",
    "model.add(Dense(8, activation='relu'))\n",
    "model.add(Dense(1, activation='sigmoid'))\n",
    "\n",
    "model.compile(optimizer='adam',\n",
    "              loss='binary_crossentropy',\n",
    "              metrics=['accuracy'])\n",
    "\n",
    "model.fit(X, y_binary, epochs=50, batch_size=10)"
   ]
  },
  {
   "cell_type": "markdown",
   "metadata": {},
   "source": [
    "It is generally recommended to use the Keras Functional model via an input_dim parameter, which creates an InputLayer, without directly using InputLayer"
   ]
  },
  {
   "cell_type": "markdown",
   "metadata": {},
   "source": [
    "### Things to know:\n",
    "\n",
    "- The data and labels in `fit()` need to be numpy arrays, not `pandas` dfs.\n",
    "- Scaling your data will have a large impact on your model.\n",
    "   > For our traditional input features, we would use a scaler object. For images, as long as the minimum value is 0, we can simply divide through by the maximum pixel intensity."
   ]
  },
  {
   "cell_type": "markdown",
   "metadata": {},
   "source": [
    "#### Getting data ready for modeling\n",
    "**Preprocessing**:\n",
    "\n",
    "- use train_test_split to create X_train, y_train, X_test, and y_test\n",
    "- Split training data into pure_train and validation sets.\n",
    "- Scale the pixel intensity to a value between 0 and 1."
   ]
  },
  {
   "cell_type": "markdown",
   "metadata": {},
   "source": [
    "Scaling our input variables will help speed up our neural network.\n",
    "\n",
    "Since our minimum intensity is 0, we can normalize the inputs by dividing each value by the max value (16)."
   ]
  },
  {
   "cell_type": "code",
   "execution_count": 15,
   "metadata": {},
   "outputs": [],
   "source": [
    "#Perform preprocessing to set up our data arrays appropriately\n",
    "\n",
    "X_train, X_test, y_train, y_test = train_test_split(X, y_binary, random_state=42, test_size=0.2)\n",
    "\n",
    "X_pure_train, X_val, y_pure_train, y_val = train_test_split(X_train, y_train, random_state=42, test_size=0.2)\n",
    "\n",
    "X_pure_train, X_val, X_test = X_pure_train/16, X_val/16, X_test/16"
   ]
  },
  {
   "cell_type": "markdown",
   "metadata": {},
   "source": [
    "For activation, let's start with the familiar sigmoid function, and see how it performs."
   ]
  },
  {
   "cell_type": "code",
   "execution_count": 16,
   "metadata": {},
   "outputs": [
    {
     "name": "stdout",
     "output_type": "stream",
     "text": [
      "Epoch 1/10\n",
      " 1/12 [=>............................] - ETA: 0s - loss: 0.8796 - accuracy: 0.4700WARNING:tensorflow:Callbacks method `on_train_batch_end` is slow compared to the batch time (batch time: 0.0000s vs `on_train_batch_end` time: 0.0010s). Check your callbacks.\n",
      "12/12 [==============================] - 0s 667us/step - loss: 0.8296 - accuracy: 0.5039\n",
      "Epoch 2/10\n",
      "12/12 [==============================] - 0s 749us/step - loss: 0.8031 - accuracy: 0.5039\n",
      "Epoch 3/10\n",
      "12/12 [==============================] - 0s 666us/step - loss: 0.7809 - accuracy: 0.5039\n",
      "Epoch 4/10\n",
      "12/12 [==============================] - 0s 667us/step - loss: 0.7627 - accuracy: 0.5039\n",
      "Epoch 5/10\n",
      "12/12 [==============================] - 0s 1ms/step - loss: 0.7479 - accuracy: 0.5039\n",
      "Epoch 6/10\n",
      "12/12 [==============================] - 0s 1ms/step - loss: 0.7358 - accuracy: 0.5039\n",
      "Epoch 7/10\n",
      "12/12 [==============================] - 0s 1ms/step - loss: 0.7261 - accuracy: 0.5039\n",
      "Epoch 8/10\n",
      "12/12 [==============================] - 0s 1ms/step - loss: 0.7187 - accuracy: 0.5039\n",
      "Epoch 9/10\n",
      "12/12 [==============================] - 0s 2ms/step - loss: 0.7126 - accuracy: 0.5039\n",
      "Epoch 10/10\n",
      "12/12 [==============================] - 0s 916us/step - loss: 0.7076 - accuracy: 0.5039\n"
     ]
    }
   ],
   "source": [
    "#First Model\n",
    "\n",
    "model = Sequential()\n",
    "# We will start with our trusty sigmoid function.\n",
    "# What does input dimension correspond to?\n",
    "model.add(Dense(12, activation='sigmoid', input_dim=64))\n",
    "model.add(Dense(8, activation='sigmoid'))\n",
    "model.add(Dense(1, activation='sigmoid'))\n",
    "\n",
    "model.compile(optimizer='SGD' ,\n",
    "              # We use binary_crossentropy for a binary loss function\n",
    "              loss='binary_crossentropy',\n",
    "              metrics=['accuracy'])\n",
    "\n",
    "# Assign to a variable to store the results,\n",
    "# and set verbose=1 so we can see the output. To see\n",
    "# only the metrics at the end of each epoch, set verbose=2.\n",
    "results = model.fit(X_pure_train, y_pure_train, epochs=10, batch_size=100, verbose=1)"
   ]
  },
  {
   "cell_type": "markdown",
   "metadata": {},
   "source": [
    "We can access the history of our model via `results.history`.\n",
    "Use __dict__ to take a tour."
   ]
  },
  {
   "cell_type": "code",
   "execution_count": 17,
   "metadata": {},
   "outputs": [
    {
     "data": {
      "text/plain": [
       "{'loss': [0.8295900821685791,\n",
       "  0.8030964136123657,\n",
       "  0.7808670997619629,\n",
       "  0.7626551389694214,\n",
       "  0.747944176197052,\n",
       "  0.7358071208000183,\n",
       "  0.7260617613792419,\n",
       "  0.7186564803123474,\n",
       "  0.7125557661056519,\n",
       "  0.7075598239898682],\n",
       " 'accuracy': [0.5039164423942566,\n",
       "  0.5039164423942566,\n",
       "  0.5039164423942566,\n",
       "  0.5039164423942566,\n",
       "  0.5039164423942566,\n",
       "  0.5039164423942566,\n",
       "  0.5039164423942566,\n",
       "  0.5039164423942566,\n",
       "  0.5039164423942566,\n",
       "  0.5039164423942566]}"
      ]
     },
     "execution_count": 17,
     "metadata": {},
     "output_type": "execute_result"
    }
   ],
   "source": [
    "results.history"
   ]
  },
  {
   "cell_type": "code",
   "execution_count": 18,
   "metadata": {},
   "outputs": [
    {
     "data": {
      "image/png": "[encoded data removed]",
      "text/plain": [
       "<Figure size 720x360 with 2 Axes>"
      ]
     },
     "metadata": {
      "needs_background": "light"
     },
     "output_type": "display_data"
    }
   ],
   "source": [
    "#Get the loss function values, and the accuracy values\n",
    "sigmoid_loss = results.history['loss']\n",
    "sigmoid_accuracy = results.history['accuracy']\n",
    "\n",
    "fig, (ax1, ax2) = plt.subplots(1, 2, figsize=(10, 5))\n",
    "sns.lineplot(x=results.epoch, y=sigmoid_loss, ax=ax1, label='loss')\n",
    "sns.lineplot(x=results.epoch, y=sigmoid_accuracy, ax=ax2, label='accuracy');"
   ]
  },
  {
   "cell_type": "markdown",
   "metadata": {},
   "source": [
    "We have two plots above both relating to the quality of our model.  The left-hand plot is our loss. It uses the probabilities associated with our predictions to judge how well our prediction fits reality. We want it to decrease as far as possible.\n",
    "\n",
    "The accuracy judges how well the predictions are after applying the threshold at the output layer.  We want accuracy to increase."
   ]
  },
  {
   "cell_type": "markdown",
   "metadata": {},
   "source": [
    "If we look at our loss, it is still decreasing. That is a signal that our model is **still learning**. If our model is still learning, we can allow it to get better by turning a few dials.\n",
    "\n",
    "Let's:\n",
    "- increase the number of epochs;\n",
    "- change sigmoid activation in the hidden layers to ReLU; and\n",
    "- decrease the batch size."
   ]
  },
  {
   "cell_type": "code",
   "execution_count": 19,
   "metadata": {},
   "outputs": [
    {
     "data": {
      "text/plain": [
       "1149"
      ]
     },
     "execution_count": 19,
     "metadata": {},
     "output_type": "execute_result"
    }
   ],
   "source": [
    "X_pure_train.shape[0]"
   ]
  },
  {
   "cell_type": "code",
   "execution_count": 27,
   "metadata": {},
   "outputs": [
    {
     "name": "stdout",
     "output_type": "stream",
     "text": [
      "Epoch 1/100\n",
      "36/36 [==============================] - 0s 610us/step - loss: 0.6215 - accuracy: 0.6710\n",
      "Epoch 2/100\n",
      "36/36 [==============================] - 0s 528us/step - loss: 0.4459 - accuracy: 0.8233\n",
      "Epoch 3/100\n",
      "36/36 [==============================] - 0s 555us/step - loss: 0.3342 - accuracy: 0.8651\n",
      "Epoch 4/100\n",
      "36/36 [==============================] - 0s 583us/step - loss: 0.2883 - accuracy: 0.8834\n",
      "Epoch 5/100\n",
      "36/36 [==============================] - 0s 722us/step - loss: 0.2373 - accuracy: 0.9034\n",
      "Epoch 6/100\n",
      "36/36 [==============================] - 0s 556us/step - loss: 0.2099 - accuracy: 0.9138\n",
      "Epoch 7/100\n",
      "36/36 [==============================] - 0s 582us/step - loss: 0.1928 - accuracy: 0.9208\n",
      "Epoch 8/100\n",
      "36/36 [==============================] - 0s 686us/step - loss: 0.1818 - accuracy: 0.9225\n",
      "Epoch 9/100\n",
      "36/36 [==============================] - 0s 667us/step - loss: 0.1670 - accuracy: 0.9321\n",
      "Epoch 10/100\n",
      "36/36 [==============================] - 0s 528us/step - loss: 0.1580 - accuracy: 0.9339\n",
      "Epoch 11/100\n",
      "36/36 [==============================] - 0s 667us/step - loss: 0.1486 - accuracy: 0.9356\n",
      "Epoch 12/100\n",
      "36/36 [==============================] - 0s 583us/step - loss: 0.1405 - accuracy: 0.9408\n",
      "Epoch 13/100\n",
      "36/36 [==============================] - 0s 639us/step - loss: 0.1344 - accuracy: 0.9452\n",
      "Epoch 14/100\n",
      "36/36 [==============================] - 0s 444us/step - loss: 0.1306 - accuracy: 0.9452\n",
      "Epoch 15/100\n",
      "36/36 [==============================] - 0s 611us/step - loss: 0.1244 - accuracy: 0.9478\n",
      "Epoch 16/100\n",
      "36/36 [==============================] - 0s 639us/step - loss: 0.1198 - accuracy: 0.9530\n",
      "Epoch 17/100\n",
      "36/36 [==============================] - 0s 583us/step - loss: 0.1143 - accuracy: 0.9521\n",
      "Epoch 18/100\n",
      "36/36 [==============================] - 0s 472us/step - loss: 0.1085 - accuracy: 0.9574\n",
      "Epoch 19/100\n",
      "36/36 [==============================] - 0s 555us/step - loss: 0.1061 - accuracy: 0.9574\n",
      "Epoch 20/100\n",
      "36/36 [==============================] - 0s 639us/step - loss: 0.1007 - accuracy: 0.9582\n",
      "Epoch 21/100\n",
      "36/36 [==============================] - 0s 694us/step - loss: 0.0989 - accuracy: 0.9582\n",
      "Epoch 22/100\n",
      "36/36 [==============================] - 0s 667us/step - loss: 0.0947 - accuracy: 0.9626\n",
      "Epoch 23/100\n",
      "36/36 [==============================] - 0s 556us/step - loss: 0.0918 - accuracy: 0.9634\n",
      "Epoch 24/100\n",
      "36/36 [==============================] - 0s 723us/step - loss: 0.0878 - accuracy: 0.9678\n",
      "Epoch 25/100\n",
      "36/36 [==============================] - 0s 472us/step - loss: 0.0854 - accuracy: 0.9652\n",
      "Epoch 26/100\n",
      "36/36 [==============================] - 0s 667us/step - loss: 0.0827 - accuracy: 0.9661\n",
      "Epoch 27/100\n",
      "36/36 [==============================] - 0s 583us/step - loss: 0.0807 - accuracy: 0.9704\n",
      "Epoch 28/100\n",
      "36/36 [==============================] - 0s 556us/step - loss: 0.0783 - accuracy: 0.9713\n",
      "Epoch 29/100\n",
      "36/36 [==============================] - 0s 650us/step - loss: 0.0756 - accuracy: 0.9687\n",
      "Epoch 30/100\n",
      "36/36 [==============================] - 0s 1ms/step - loss: 0.0740 - accuracy: 0.9713\n",
      "Epoch 31/100\n",
      "36/36 [==============================] - 0s 667us/step - loss: 0.0705 - accuracy: 0.9695\n",
      "Epoch 32/100\n",
      "36/36 [==============================] - 0s 528us/step - loss: 0.0688 - accuracy: 0.9739\n",
      "Epoch 33/100\n",
      "36/36 [==============================] - 0s 583us/step - loss: 0.0671 - accuracy: 0.9713\n",
      "Epoch 34/100\n",
      "36/36 [==============================] - 0s 611us/step - loss: 0.0668 - accuracy: 0.9756\n",
      "Epoch 35/100\n",
      "36/36 [==============================] - 0s 611us/step - loss: 0.0647 - accuracy: 0.9765\n",
      "Epoch 36/100\n",
      "36/36 [==============================] - 0s 694us/step - loss: 0.0614 - accuracy: 0.9774\n",
      "Epoch 37/100\n",
      "36/36 [==============================] - 0s 778us/step - loss: 0.0638 - accuracy: 0.9774\n",
      "Epoch 38/100\n",
      "36/36 [==============================] - 0s 556us/step - loss: 0.0596 - accuracy: 0.9774\n",
      "Epoch 39/100\n",
      "36/36 [==============================] - 0s 528us/step - loss: 0.0595 - accuracy: 0.9765\n",
      "Epoch 40/100\n",
      "36/36 [==============================] - 0s 667us/step - loss: 0.0583 - accuracy: 0.9774\n",
      "Epoch 41/100\n",
      "36/36 [==============================] - 0s 611us/step - loss: 0.0567 - accuracy: 0.9782\n",
      "Epoch 42/100\n",
      "36/36 [==============================] - 0s 2ms/step - loss: 0.0561 - accuracy: 0.9809\n",
      "Epoch 43/100\n",
      "36/36 [==============================] - 0s 917us/step - loss: 0.0533 - accuracy: 0.9774\n",
      "Epoch 44/100\n",
      "36/36 [==============================] - 0s 778us/step - loss: 0.0523 - accuracy: 0.9809\n",
      "Epoch 45/100\n",
      "36/36 [==============================] - 0s 611us/step - loss: 0.0512 - accuracy: 0.9800\n",
      "Epoch 46/100\n",
      "36/36 [==============================] - 0s 722us/step - loss: 0.0514 - accuracy: 0.9817\n",
      "Epoch 47/100\n",
      "36/36 [==============================] - 0s 528us/step - loss: 0.0501 - accuracy: 0.9800\n",
      "Epoch 48/100\n",
      "36/36 [==============================] - 0s 1ms/step - loss: 0.0494 - accuracy: 0.9782\n",
      "Epoch 49/100\n",
      "36/36 [==============================] - 0s 1ms/step - loss: 0.0481 - accuracy: 0.9835\n",
      "Epoch 50/100\n",
      "36/36 [==============================] - 0s 972us/step - loss: 0.0468 - accuracy: 0.9817\n",
      "Epoch 51/100\n",
      "36/36 [==============================] - 0s 667us/step - loss: 0.0463 - accuracy: 0.9835\n",
      "Epoch 52/100\n",
      "36/36 [==============================] - 0s 611us/step - loss: 0.0454 - accuracy: 0.9809\n",
      "Epoch 53/100\n",
      "36/36 [==============================] - 0s 972us/step - loss: 0.0451 - accuracy: 0.9809\n",
      "Epoch 54/100\n",
      "36/36 [==============================] - 0s 942us/step - loss: 0.0440 - accuracy: 0.9835\n",
      "Epoch 55/100\n",
      "36/36 [==============================] - 0s 722us/step - loss: 0.0428 - accuracy: 0.9869\n",
      "Epoch 56/100\n",
      "36/36 [==============================] - 0s 639us/step - loss: 0.0441 - accuracy: 0.9817\n",
      "Epoch 57/100\n",
      "36/36 [==============================] - 0s 667us/step - loss: 0.0411 - accuracy: 0.9878\n",
      "Epoch 58/100\n",
      "36/36 [==============================] - 0s 583us/step - loss: 0.0408 - accuracy: 0.9835\n",
      "Epoch 59/100\n",
      "36/36 [==============================] - 0s 639us/step - loss: 0.0404 - accuracy: 0.9878\n",
      "Epoch 60/100\n",
      "36/36 [==============================] - 0s 667us/step - loss: 0.0390 - accuracy: 0.9843\n",
      "Epoch 61/100\n",
      "36/36 [==============================] - 0s 611us/step - loss: 0.0387 - accuracy: 0.9887\n",
      "Epoch 62/100\n",
      "36/36 [==============================] - 0s 722us/step - loss: 0.0381 - accuracy: 0.9861\n",
      "Epoch 63/100\n",
      "36/36 [==============================] - 0s 806us/step - loss: 0.0367 - accuracy: 0.9878\n",
      "Epoch 64/100\n",
      "36/36 [==============================] - 0s 583us/step - loss: 0.0357 - accuracy: 0.9878\n",
      "Epoch 65/100\n",
      "36/36 [==============================] - 0s 528us/step - loss: 0.0356 - accuracy: 0.9887\n",
      "Epoch 66/100\n",
      "36/36 [==============================] - 0s 500us/step - loss: 0.0347 - accuracy: 0.9887\n",
      "Epoch 67/100\n",
      "36/36 [==============================] - 0s 500us/step - loss: 0.0346 - accuracy: 0.9913\n",
      "Epoch 68/100\n",
      "36/36 [==============================] - 0s 444us/step - loss: 0.0340 - accuracy: 0.9896\n",
      "Epoch 69/100\n",
      "36/36 [==============================] - 0s 472us/step - loss: 0.0331 - accuracy: 0.9904\n",
      "Epoch 70/100\n",
      "36/36 [==============================] - 0s 500us/step - loss: 0.0338 - accuracy: 0.9887\n",
      "Epoch 71/100\n",
      "36/36 [==============================] - 0s 722us/step - loss: 0.0326 - accuracy: 0.9913\n",
      "Epoch 72/100\n",
      "36/36 [==============================] - 0s 667us/step - loss: 0.0325 - accuracy: 0.9887\n",
      "Epoch 73/100\n",
      "36/36 [==============================] - 0s 556us/step - loss: 0.0320 - accuracy: 0.9896\n",
      "Epoch 74/100\n",
      "36/36 [==============================] - 0s 528us/step - loss: 0.0301 - accuracy: 0.9922\n",
      "Epoch 75/100\n",
      "36/36 [==============================] - 0s 472us/step - loss: 0.0303 - accuracy: 0.9896\n",
      "Epoch 76/100\n",
      "36/36 [==============================] - 0s 444us/step - loss: 0.0297 - accuracy: 0.9922\n",
      "Epoch 77/100\n",
      "36/36 [==============================] - 0s 500us/step - loss: 0.0296 - accuracy: 0.9930\n",
      "Epoch 78/100\n",
      "36/36 [==============================] - 0s 528us/step - loss: 0.0287 - accuracy: 0.9904\n",
      "Epoch 79/100\n",
      "36/36 [==============================] - 0s 500us/step - loss: 0.0281 - accuracy: 0.9904\n",
      "Epoch 80/100\n",
      "36/36 [==============================] - 0s 472us/step - loss: 0.0282 - accuracy: 0.9896\n",
      "Epoch 81/100\n"
     ]
    },
    {
     "name": "stdout",
     "output_type": "stream",
     "text": [
      "36/36 [==============================] - 0s 500us/step - loss: 0.0280 - accuracy: 0.9939\n",
      "Epoch 82/100\n",
      "36/36 [==============================] - 0s 500us/step - loss: 0.0265 - accuracy: 0.9922\n",
      "Epoch 83/100\n",
      "36/36 [==============================] - 0s 472us/step - loss: 0.0272 - accuracy: 0.9922\n",
      "Epoch 84/100\n",
      "36/36 [==============================] - 0s 472us/step - loss: 0.0257 - accuracy: 0.9939\n",
      "Epoch 85/100\n",
      "36/36 [==============================] - 0s 444us/step - loss: 0.0262 - accuracy: 0.9948\n",
      "Epoch 86/100\n",
      "36/36 [==============================] - 0s 556us/step - loss: 0.0253 - accuracy: 0.9939\n",
      "Epoch 87/100\n",
      "36/36 [==============================] - 0s 528us/step - loss: 0.0248 - accuracy: 0.9939\n",
      "Epoch 88/100\n",
      "36/36 [==============================] - 0s 472us/step - loss: 0.0243 - accuracy: 0.9948\n",
      "Epoch 89/100\n",
      "36/36 [==============================] - 0s 472us/step - loss: 0.0245 - accuracy: 0.9930\n",
      "Epoch 90/100\n",
      "36/36 [==============================] - 0s 417us/step - loss: 0.0232 - accuracy: 0.9939\n",
      "Epoch 91/100\n",
      "36/36 [==============================] - 0s 528us/step - loss: 0.0234 - accuracy: 0.9956\n",
      "Epoch 92/100\n",
      "36/36 [==============================] - 0s 889us/step - loss: 0.0226 - accuracy: 0.9965\n",
      "Epoch 93/100\n",
      "36/36 [==============================] - 0s 528us/step - loss: 0.0231 - accuracy: 0.9956\n",
      "Epoch 94/100\n",
      "36/36 [==============================] - 0s 556us/step - loss: 0.0237 - accuracy: 0.9922\n",
      "Epoch 95/100\n",
      "36/36 [==============================] - 0s 472us/step - loss: 0.0218 - accuracy: 0.9948\n",
      "Epoch 96/100\n",
      "36/36 [==============================] - 0s 500us/step - loss: 0.0213 - accuracy: 0.9956\n",
      "Epoch 97/100\n",
      "36/36 [==============================] - 0s 555us/step - loss: 0.0217 - accuracy: 0.9956\n",
      "Epoch 98/100\n",
      "36/36 [==============================] - 0s 500us/step - loss: 0.0209 - accuracy: 0.9948\n",
      "Epoch 99/100\n",
      "36/36 [==============================] - 0s 556us/step - loss: 0.0204 - accuracy: 0.9956\n",
      "Epoch 100/100\n",
      "36/36 [==============================] - 0s 528us/step - loss: 0.0201 - accuracy: 0.9956\n"
     ]
    }
   ],
   "source": [
    "#Second model: Make the changes noted above.\n",
    "\n",
    "model = Sequential()\n",
    "model.add(Dense(12, activation='relu', input_dim=64))\n",
    "model.add(Dense(8, activation='relu'))\n",
    "model.add(Dense(1, activation='relu'))\n",
    "\n",
    "model.compile(optimizer='SGD' ,\n",
    "              loss='binary_crossentropy',\n",
    "              metrics=['accuracy'])\n",
    "\n",
    "results = model.fit(X_pure_train, y_pure_train, epochs=100, batch_size=None, verbose=1)\n"
   ]
  },
  {
   "cell_type": "code",
   "execution_count": 28,
   "metadata": {},
   "outputs": [
    {
     "data": {
      "image/png": "[encoded data removed]",
      "text/plain": [
       "<Figure size 720x360 with 2 Axes>"
      ]
     },
     "metadata": {
      "needs_background": "light"
     },
     "output_type": "display_data"
    }
   ],
   "source": [
    "sigmoid_loss = results.history['loss']\n",
    "sigmoid_accuracy = results.history['accuracy']\n",
    "\n",
    "fig, (ax1, ax2) = plt.subplots(1, 2, figsize=(10, 5))\n",
    "sns.lineplot(x=results.epoch, y=sigmoid_loss, ax=ax1, label='loss')\n",
    "sns.lineplot(x=results.epoch, y=sigmoid_accuracy, ax=ax2, label='accuracy');"
   ]
  },
  {
   "cell_type": "markdown",
   "metadata": {},
   "source": [
    "If we increase the learning rate to a very high number, we see that our model overshoots the minimum, and starts bouncing all around."
   ]
  },
  {
   "cell_type": "code",
   "execution_count": 29,
   "metadata": {},
   "outputs": [
    {
     "name": "stdout",
     "output_type": "stream",
     "text": [
      "Epoch 1/30\n",
      "115/115 [==============================] - 0s 452us/step - loss: 2.5990 - accuracy: 0.4978\n",
      "Epoch 2/30\n",
      "115/115 [==============================] - 0s 730us/step - loss: 0.9287 - accuracy: 0.5178\n",
      "Epoch 3/30\n",
      "115/115 [==============================] - 0s 566us/step - loss: 1.0114 - accuracy: 0.4830\n",
      "Epoch 4/30\n",
      "115/115 [==============================] - 0s 513us/step - loss: 0.9652 - accuracy: 0.4987\n",
      "Epoch 5/30\n",
      "115/115 [==============================] - 0s 487us/step - loss: 0.9490 - accuracy: 0.5274\n",
      "Epoch 6/30\n",
      "115/115 [==============================] - 0s 548us/step - loss: 1.0176 - accuracy: 0.4952\n",
      "Epoch 7/30\n",
      "115/115 [==============================] - 0s 548us/step - loss: 0.9425 - accuracy: 0.5100\n",
      "Epoch 8/30\n",
      "115/115 [==============================] - 0s 622us/step - loss: 0.9925 - accuracy: 0.4917\n",
      "Epoch 9/30\n",
      "115/115 [==============================] - 0s 616us/step - loss: 0.9903 - accuracy: 0.4909\n",
      "Epoch 10/30\n",
      "115/115 [==============================] - 0s 465us/step - loss: 0.9972 - accuracy: 0.5100\n",
      "Epoch 11/30\n",
      "115/115 [==============================] - 0s 426us/step - loss: 1.0150 - accuracy: 0.4970\n",
      "Epoch 12/30\n",
      "115/115 [==============================] - 0s 574us/step - loss: 1.1176 - accuracy: 0.4917\n",
      "Epoch 13/30\n",
      "115/115 [==============================] - 0s 574us/step - loss: 1.0267 - accuracy: 0.4900\n",
      "Epoch 14/30\n",
      "115/115 [==============================] - 0s 670us/step - loss: 0.9853 - accuracy: 0.5013\n",
      "Epoch 15/30\n",
      "115/115 [==============================] - 0s 609us/step - loss: 1.0203 - accuracy: 0.5013\n",
      "Epoch 16/30\n",
      "115/115 [==============================] - 0s 548us/step - loss: 0.9834 - accuracy: 0.5030\n",
      "Epoch 17/30\n",
      "115/115 [==============================] - 0s 600us/step - loss: 1.0335 - accuracy: 0.5117\n",
      "Epoch 18/30\n",
      "115/115 [==============================] - 0s 574us/step - loss: 0.9798 - accuracy: 0.5004\n",
      "Epoch 19/30\n",
      "115/115 [==============================] - 0s 496us/step - loss: 0.9493 - accuracy: 0.5083\n",
      "Epoch 20/30\n",
      "115/115 [==============================] - 0s 504us/step - loss: 1.0579 - accuracy: 0.4665\n",
      "Epoch 21/30\n",
      "115/115 [==============================] - 0s 565us/step - loss: 1.0679 - accuracy: 0.4935\n",
      "Epoch 22/30\n",
      "115/115 [==============================] - 0s 600us/step - loss: 0.9267 - accuracy: 0.5265\n",
      "Epoch 23/30\n",
      "115/115 [==============================] - 0s 609us/step - loss: 1.1086 - accuracy: 0.4917\n",
      "Epoch 24/30\n",
      "115/115 [==============================] - 0s 609us/step - loss: 0.9418 - accuracy: 0.5091\n",
      "Epoch 25/30\n",
      "115/115 [==============================] - 0s 522us/step - loss: 0.9602 - accuracy: 0.5057\n",
      "Epoch 26/30\n",
      "115/115 [==============================] - 0s 461us/step - loss: 1.0147 - accuracy: 0.5030\n",
      "Epoch 27/30\n",
      "115/115 [==============================] - 0s 452us/step - loss: 1.0806 - accuracy: 0.4856\n",
      "Epoch 28/30\n",
      "115/115 [==============================] - 0s 504us/step - loss: 1.0241 - accuracy: 0.5004\n",
      "Epoch 29/30\n",
      "115/115 [==============================] - 0s 461us/step - loss: 0.8906 - accuracy: 0.5335\n",
      "Epoch 30/30\n",
      "115/115 [==============================] - 0s 548us/step - loss: 1.0060 - accuracy: 0.5065\n"
     ]
    },
    {
     "data": {
      "image/png": "[encoded data removed]",
      "text/plain": [
       "<Figure size 720x360 with 2 Axes>"
      ]
     },
     "metadata": {
      "needs_background": "light"
     },
     "output_type": "display_data"
    }
   ],
   "source": [
    "model = Sequential()\n",
    "\n",
    "sgd = SGD(lr=9) #Setting a really high learning rate\n",
    "model.add(Dense(12, activation='relu', input_dim=64))\n",
    "model.add(Dense(8, activation='relu'))\n",
    "model.add(Dense(1, activation='sigmoid'))\n",
    "\n",
    "model.compile(optimizer=sgd,\n",
    "              loss='binary_crossentropy',\n",
    "              metrics=['accuracy'])\n",
    "\n",
    "results = model.fit(X_pure_train, y_pure_train,\n",
    "                    epochs=30, batch_size=10, verbose=1)\n",
    "\n",
    "relu_loss = results.history['loss']\n",
    "relu_accuracy = results.history['accuracy']\n",
    "\n",
    "fig, (ax1, ax2) = plt.subplots(1, 2, figsize=(10, 5))\n",
    "sns.lineplot(x=results.epoch, y=relu_loss, ax=ax1, label='loss')\n",
    "sns.lineplot(x=results.epoch, y=relu_accuracy, ax=ax2, label='accuracy');"
   ]
  },
  {
   "cell_type": "markdown",
   "metadata": {},
   "source": [
    "### Exercise\n",
    "\n",
    "We have been looking only at our training set. Let's add in our validation set to the picture. Check the docstring for the `.fit()` method and add in our validation data."
   ]
  },
  {
   "cell_type": "code",
   "execution_count": 31,
   "metadata": {},
   "outputs": [
    {
     "name": "stdout",
     "output_type": "stream",
     "text": [
      "Epoch 1/30\n",
      "115/115 [==============================] - 0s 2ms/step - loss: 0.6657 - accuracy: 0.6275 - val_loss: 0.5989 - val_accuracy: 0.7118\n",
      "Epoch 2/30\n",
      "115/115 [==============================] - 0s 791us/step - loss: 0.4698 - accuracy: 0.8111 - val_loss: 0.3901 - val_accuracy: 0.8368\n",
      "Epoch 3/30\n",
      "115/115 [==============================] - 0s 822us/step - loss: 0.3111 - accuracy: 0.8747 - val_loss: 0.2904 - val_accuracy: 0.8785\n",
      "Epoch 4/30\n",
      "115/115 [==============================] - 0s 852us/step - loss: 0.2408 - accuracy: 0.9008 - val_loss: 0.2286 - val_accuracy: 0.9062\n",
      "Epoch 5/30\n",
      "115/115 [==============================] - 0s 982us/step - loss: 0.1948 - accuracy: 0.9243 - val_loss: 0.2298 - val_accuracy: 0.9167\n",
      "Epoch 6/30\n",
      "115/115 [==============================] - 0s 852us/step - loss: 0.1680 - accuracy: 0.9339 - val_loss: 0.1835 - val_accuracy: 0.9306\n",
      "Epoch 7/30\n",
      "115/115 [==============================] - 0s 904us/step - loss: 0.1477 - accuracy: 0.9426 - val_loss: 0.1850 - val_accuracy: 0.9271\n",
      "Epoch 8/30\n",
      "115/115 [==============================] - 0s 791us/step - loss: 0.1352 - accuracy: 0.9504 - val_loss: 0.1323 - val_accuracy: 0.9549\n",
      "Epoch 9/30\n",
      "115/115 [==============================] - 0s 826us/step - loss: 0.1172 - accuracy: 0.9530 - val_loss: 0.1293 - val_accuracy: 0.9549\n",
      "Epoch 10/30\n",
      "115/115 [==============================] - 0s 983us/step - loss: 0.1056 - accuracy: 0.9574 - val_loss: 0.1314 - val_accuracy: 0.9549\n",
      "Epoch 11/30\n",
      "115/115 [==============================] - 0s 922us/step - loss: 0.0921 - accuracy: 0.9678 - val_loss: 0.1010 - val_accuracy: 0.9688\n",
      "Epoch 12/30\n",
      "115/115 [==============================] - 0s 939us/step - loss: 0.0887 - accuracy: 0.9661 - val_loss: 0.0955 - val_accuracy: 0.9653\n",
      "Epoch 13/30\n",
      "115/115 [==============================] - 0s 1ms/step - loss: 0.0765 - accuracy: 0.9695 - val_loss: 0.0867 - val_accuracy: 0.9688\n",
      "Epoch 14/30\n",
      "115/115 [==============================] - 0s 878us/step - loss: 0.0702 - accuracy: 0.9774 - val_loss: 0.0926 - val_accuracy: 0.9618\n",
      "Epoch 15/30\n",
      "115/115 [==============================] - 0s 904us/step - loss: 0.0625 - accuracy: 0.9774 - val_loss: 0.1060 - val_accuracy: 0.9653\n",
      "Epoch 16/30\n",
      "115/115 [==============================] - 0s 835us/step - loss: 0.0605 - accuracy: 0.9817 - val_loss: 0.0816 - val_accuracy: 0.9688\n",
      "Epoch 17/30\n",
      "115/115 [==============================] - 0s 722us/step - loss: 0.0522 - accuracy: 0.9843 - val_loss: 0.0751 - val_accuracy: 0.9722\n",
      "Epoch 18/30\n",
      "115/115 [==============================] - 0s 783us/step - loss: 0.0500 - accuracy: 0.9817 - val_loss: 0.0786 - val_accuracy: 0.9722\n",
      "Epoch 19/30\n",
      "115/115 [==============================] - 0s 748us/step - loss: 0.0419 - accuracy: 0.9869 - val_loss: 0.0687 - val_accuracy: 0.9757\n",
      "Epoch 20/30\n",
      "115/115 [==============================] - 0s 748us/step - loss: 0.0411 - accuracy: 0.9869 - val_loss: 0.0638 - val_accuracy: 0.9757\n",
      "Epoch 21/30\n",
      "115/115 [==============================] - 0s 713us/step - loss: 0.0394 - accuracy: 0.9878 - val_loss: 0.0575 - val_accuracy: 0.9826\n",
      "Epoch 22/30\n",
      "115/115 [==============================] - 0s 730us/step - loss: 0.0322 - accuracy: 0.9922 - val_loss: 0.0608 - val_accuracy: 0.9757\n",
      "Epoch 23/30\n",
      "115/115 [==============================] - 0s 800us/step - loss: 0.0337 - accuracy: 0.9878 - val_loss: 0.0609 - val_accuracy: 0.9757\n",
      "Epoch 24/30\n",
      "115/115 [==============================] - 0s 739us/step - loss: 0.0310 - accuracy: 0.9913 - val_loss: 0.0650 - val_accuracy: 0.9757\n",
      "Epoch 25/30\n",
      "115/115 [==============================] - 0s 722us/step - loss: 0.0252 - accuracy: 0.9930 - val_loss: 0.0618 - val_accuracy: 0.9757\n",
      "Epoch 26/30\n",
      "115/115 [==============================] - 0s 765us/step - loss: 0.0256 - accuracy: 0.9939 - val_loss: 0.0728 - val_accuracy: 0.9688\n",
      "Epoch 27/30\n",
      "115/115 [==============================] - 0s 765us/step - loss: 0.0232 - accuracy: 0.9939 - val_loss: 0.0615 - val_accuracy: 0.9722\n",
      "Epoch 28/30\n",
      "115/115 [==============================] - 0s 739us/step - loss: 0.0199 - accuracy: 0.9983 - val_loss: 0.0492 - val_accuracy: 0.9792\n",
      "Epoch 29/30\n",
      "115/115 [==============================] - 0s 774us/step - loss: 0.0177 - accuracy: 0.9965 - val_loss: 0.0537 - val_accuracy: 0.9792\n",
      "Epoch 30/30\n",
      "115/115 [==============================] - 0s 739us/step - loss: 0.0173 - accuracy: 0.9956 - val_loss: 0.0530 - val_accuracy: 0.9757\n"
     ]
    },
    {
     "data": {
      "image/png": "[encoded data removed]",
      "text/plain": [
       "<Figure size 720x360 with 2 Axes>"
      ]
     },
     "metadata": {
      "needs_background": "light"
     },
     "output_type": "display_data"
    }
   ],
   "source": [
    "model = Sequential()\n",
    "model.add(Dense(12, activation='relu', input_dim=64))\n",
    "model.add(Dense(8, activation='relu'))\n",
    "model.add(Dense(4, activation='relu'))\n",
    "model.add(Dense(1, activation='sigmoid'))\n",
    "\n",
    "model.compile(optimizer='adam',\n",
    "              loss='binary_crossentropy',\n",
    "              metrics=['accuracy'])\n",
    "\n",
    "## YOUR CODE STARTING HERE\n",
    "results = model.fit(X_pure_train, y_pure_train, epochs=30, batch_size=10, validation_data=(X_val, y_val))\n",
    "\n",
    "train_loss = results.history['loss']\n",
    "train_acc = results.history['accuracy']\n",
    "val_loss = results.history['val_loss']\n",
    "val_acc = results.history['val_accuracy']\n",
    "\n",
    "fig, (ax1, ax2) = plt.subplots(1, 2, figsize=(10, 5))\n",
    "sns.lineplot(x=results.epoch, y=train_loss, ax=ax1, label='train_loss')\n",
    "sns.lineplot(x=results.epoch, y=train_acc, ax=ax2, label='train_accuracy')\n",
    "\n",
    "sns.lineplot(x=results.epoch, y=val_loss, ax=ax1, label='val_loss')\n",
    "sns.lineplot(x=results.epoch, y=val_acc, ax=ax2, label='val_accuracy');"
   ]
  },
  {
   "cell_type": "markdown",
   "metadata": {},
   "source": [
    "<details>\n",
    "    <summary>One answer here</summary>\n",
    "<code>model = Sequential()\n",
    "model.add(Dense(12, activation='relu', input_dim=64))\n",
    "model.add(Dense(8, activation='relu'))\n",
    "model.add(Dense(4, activation='relu'))\n",
    "model.add(Dense(1, activation='sigmoid'))\n",
    "model.compile(optimizer='adam',\n",
    "              loss='binary_crossentropy',\n",
    "              metrics=['accuracy'])\n",
    "results = model.fit(X_pure_train, y_pure_train,\n",
    "                   validation_data=(X_val, y_val),\n",
    "                   epochs=30, batch_size=10)\n",
    "train_loss = results.history['loss']\n",
    "train_acc = results.history['accuracy']\n",
    "val_loss = results.history['val_loss']\n",
    "val_acc = results.history['val_accuracy']\n",
    "fig, (ax1, ax2) = plt.subplots(1, 2, figsize=(10, 5))\n",
    "sns.lineplot(x=results.epoch, y=train_loss, ax=ax1, label='train_loss')\n",
    "sns.lineplot(x=results.epoch, y=train_acc, ax=ax2, label='train_accuracy')\n",
    "sns.lineplot(x=results.epoch, y=val_loss, ax=ax1, label='val_loss')\n",
    "sns.lineplot(x=results.epoch, y=val_acc, ax=ax2, label='val_accuracy');</code>\n",
    "</details>"
   ]
  },
  {
   "cell_type": "code",
   "execution_count": 32,
   "metadata": {},
   "outputs": [
    {
     "data": {
      "text/plain": [
       "0.9756944179534912"
      ]
     },
     "execution_count": 32,
     "metadata": {},
     "output_type": "execute_result"
    }
   ],
   "source": [
    "results.history['val_accuracy'][-1]"
   ]
  },
  {
   "cell_type": "markdown",
   "metadata": {},
   "source": [
    "## Connecting with `sklearn`\n",
    "\n",
    "The `keras.wrappers` submodule means that we can turn `keras` models into estimators that `sklearn` tools will recognize."
   ]
  },
  {
   "cell_type": "code",
   "execution_count": 37,
   "metadata": {},
   "outputs": [
    {
     "ename": "TypeError",
     "evalue": "If no scoring is specified, the estimator passed should have a 'score' method. The estimator <tensorflow.python.keras.engine.sequential.Sequential object at 0x0000024D1B7F3370> does not.",
     "output_type": "error",
     "traceback": [
      "\u001b[1;31m---------------------------------------------------------------------------\u001b[0m",
      "\u001b[1;31mTypeError\u001b[0m                                 Traceback (most recent call last)",
      "\u001b[1;32m<ipython-input-37-440685741601>\u001b[0m in \u001b[0;36m<module>\u001b[1;34m\u001b[0m\n\u001b[0;32m      1\u001b[0m \u001b[1;31m# This will throw an error.\u001b[0m\u001b[1;33m\u001b[0m\u001b[1;33m\u001b[0m\u001b[1;33m\u001b[0m\u001b[0m\n\u001b[0;32m      2\u001b[0m \u001b[1;33m\u001b[0m\u001b[0m\n\u001b[1;32m----> 3\u001b[1;33m \u001b[0mcross_val_score\u001b[0m\u001b[1;33m(\u001b[0m\u001b[0mmodel\u001b[0m\u001b[1;33m,\u001b[0m \u001b[0mX_pure_train\u001b[0m\u001b[1;33m,\u001b[0m \u001b[0my_pure_train\u001b[0m\u001b[1;33m)\u001b[0m\u001b[1;33m\u001b[0m\u001b[1;33m\u001b[0m\u001b[0m\n\u001b[0m",
      "\u001b[1;32m~\\Anaconda3\\envs\\learn-env\\lib\\site-packages\\sklearn\\utils\\validation.py\u001b[0m in \u001b[0;36minner_f\u001b[1;34m(*args, **kwargs)\u001b[0m\n\u001b[0;32m     70\u001b[0m                           FutureWarning)\n\u001b[0;32m     71\u001b[0m         \u001b[0mkwargs\u001b[0m\u001b[1;33m.\u001b[0m\u001b[0mupdate\u001b[0m\u001b[1;33m(\u001b[0m\u001b[1;33m{\u001b[0m\u001b[0mk\u001b[0m\u001b[1;33m:\u001b[0m \u001b[0marg\u001b[0m \u001b[1;32mfor\u001b[0m \u001b[0mk\u001b[0m\u001b[1;33m,\u001b[0m \u001b[0marg\u001b[0m \u001b[1;32min\u001b[0m \u001b[0mzip\u001b[0m\u001b[1;33m(\u001b[0m\u001b[0msig\u001b[0m\u001b[1;33m.\u001b[0m\u001b[0mparameters\u001b[0m\u001b[1;33m,\u001b[0m \u001b[0margs\u001b[0m\u001b[1;33m)\u001b[0m\u001b[1;33m}\u001b[0m\u001b[1;33m)\u001b[0m\u001b[1;33m\u001b[0m\u001b[1;33m\u001b[0m\u001b[0m\n\u001b[1;32m---> 72\u001b[1;33m         \u001b[1;32mreturn\u001b[0m \u001b[0mf\u001b[0m\u001b[1;33m(\u001b[0m\u001b[1;33m**\u001b[0m\u001b[0mkwargs\u001b[0m\u001b[1;33m)\u001b[0m\u001b[1;33m\u001b[0m\u001b[1;33m\u001b[0m\u001b[0m\n\u001b[0m\u001b[0;32m     73\u001b[0m     \u001b[1;32mreturn\u001b[0m \u001b[0minner_f\u001b[0m\u001b[1;33m\u001b[0m\u001b[1;33m\u001b[0m\u001b[0m\n\u001b[0;32m     74\u001b[0m \u001b[1;33m\u001b[0m\u001b[0m\n",
      "\u001b[1;32m~\\Anaconda3\\envs\\learn-env\\lib\\site-packages\\sklearn\\model_selection\\_validation.py\u001b[0m in \u001b[0;36mcross_val_score\u001b[1;34m(estimator, X, y, groups, scoring, cv, n_jobs, verbose, fit_params, pre_dispatch, error_score)\u001b[0m\n\u001b[0;32m    397\u001b[0m     \"\"\"\n\u001b[0;32m    398\u001b[0m     \u001b[1;31m# To ensure multimetric format is not supported\u001b[0m\u001b[1;33m\u001b[0m\u001b[1;33m\u001b[0m\u001b[1;33m\u001b[0m\u001b[0m\n\u001b[1;32m--> 399\u001b[1;33m     \u001b[0mscorer\u001b[0m \u001b[1;33m=\u001b[0m \u001b[0mcheck_scoring\u001b[0m\u001b[1;33m(\u001b[0m\u001b[0mestimator\u001b[0m\u001b[1;33m,\u001b[0m \u001b[0mscoring\u001b[0m\u001b[1;33m=\u001b[0m\u001b[0mscoring\u001b[0m\u001b[1;33m)\u001b[0m\u001b[1;33m\u001b[0m\u001b[1;33m\u001b[0m\u001b[0m\n\u001b[0m\u001b[0;32m    400\u001b[0m \u001b[1;33m\u001b[0m\u001b[0m\n\u001b[0;32m    401\u001b[0m     cv_results = cross_validate(estimator=estimator, X=X, y=y, groups=groups,\n",
      "\u001b[1;32m~\\Anaconda3\\envs\\learn-env\\lib\\site-packages\\sklearn\\utils\\validation.py\u001b[0m in \u001b[0;36minner_f\u001b[1;34m(*args, **kwargs)\u001b[0m\n\u001b[0;32m     70\u001b[0m                           FutureWarning)\n\u001b[0;32m     71\u001b[0m         \u001b[0mkwargs\u001b[0m\u001b[1;33m.\u001b[0m\u001b[0mupdate\u001b[0m\u001b[1;33m(\u001b[0m\u001b[1;33m{\u001b[0m\u001b[0mk\u001b[0m\u001b[1;33m:\u001b[0m \u001b[0marg\u001b[0m \u001b[1;32mfor\u001b[0m \u001b[0mk\u001b[0m\u001b[1;33m,\u001b[0m \u001b[0marg\u001b[0m \u001b[1;32min\u001b[0m \u001b[0mzip\u001b[0m\u001b[1;33m(\u001b[0m\u001b[0msig\u001b[0m\u001b[1;33m.\u001b[0m\u001b[0mparameters\u001b[0m\u001b[1;33m,\u001b[0m \u001b[0margs\u001b[0m\u001b[1;33m)\u001b[0m\u001b[1;33m}\u001b[0m\u001b[1;33m)\u001b[0m\u001b[1;33m\u001b[0m\u001b[1;33m\u001b[0m\u001b[0m\n\u001b[1;32m---> 72\u001b[1;33m         \u001b[1;32mreturn\u001b[0m \u001b[0mf\u001b[0m\u001b[1;33m(\u001b[0m\u001b[1;33m**\u001b[0m\u001b[0mkwargs\u001b[0m\u001b[1;33m)\u001b[0m\u001b[1;33m\u001b[0m\u001b[1;33m\u001b[0m\u001b[0m\n\u001b[0m\u001b[0;32m     73\u001b[0m     \u001b[1;32mreturn\u001b[0m \u001b[0minner_f\u001b[0m\u001b[1;33m\u001b[0m\u001b[1;33m\u001b[0m\u001b[0m\n\u001b[0;32m     74\u001b[0m \u001b[1;33m\u001b[0m\u001b[0m\n",
      "\u001b[1;32m~\\Anaconda3\\envs\\learn-env\\lib\\site-packages\\sklearn\\metrics\\_scorer.py\u001b[0m in \u001b[0;36mcheck_scoring\u001b[1;34m(estimator, scoring, allow_none)\u001b[0m\n\u001b[0;32m    423\u001b[0m             \u001b[1;32mreturn\u001b[0m \u001b[1;32mNone\u001b[0m\u001b[1;33m\u001b[0m\u001b[1;33m\u001b[0m\u001b[0m\n\u001b[0;32m    424\u001b[0m         \u001b[1;32melse\u001b[0m\u001b[1;33m:\u001b[0m\u001b[1;33m\u001b[0m\u001b[1;33m\u001b[0m\u001b[0m\n\u001b[1;32m--> 425\u001b[1;33m             raise TypeError(\n\u001b[0m\u001b[0;32m    426\u001b[0m                 \u001b[1;34m\"If no scoring is specified, the estimator passed should \"\u001b[0m\u001b[1;33m\u001b[0m\u001b[1;33m\u001b[0m\u001b[0m\n\u001b[0;32m    427\u001b[0m                 \u001b[1;34m\"have a 'score' method. The estimator %r does not.\"\u001b[0m\u001b[1;33m\u001b[0m\u001b[1;33m\u001b[0m\u001b[0m\n",
      "\u001b[1;31mTypeError\u001b[0m: If no scoring is specified, the estimator passed should have a 'score' method. The estimator <tensorflow.python.keras.engine.sequential.Sequential object at 0x0000024D1B7F3370> does not."
     ]
    }
   ],
   "source": [
    "# This will throw an error.\n",
    "\n",
    "cross_val_score(model, X_pure_train, y_pure_train)"
   ]
  },
  {
   "cell_type": "markdown",
   "metadata": {},
   "source": [
    "We will now wrap our keras model as a Scikit-Learn estimator"
   ]
  },
  {
   "cell_type": "code",
   "execution_count": 33,
   "metadata": {},
   "outputs": [],
   "source": [
    "def build_model():\n",
    "    model = Sequential()\n",
    "    model.add(Dense(12, activation='relu', input_dim=64))\n",
    "    model.add(Dense(8, activation='relu'))\n",
    "    model.add(Dense(4, activation='relu'))\n",
    "    model.add(Dense(1, activation='sigmoid'))\n",
    "\n",
    "    model.compile(optimizer='adam',\n",
    "              loss='binary_crossentropy',\n",
    "              metrics=['accuracy'])"
   ]
  },
  {
   "cell_type": "code",
   "execution_count": 34,
   "metadata": {},
   "outputs": [],
   "source": [
    "#Create a Scikit-learn estimator\n",
    "keras_model = scikit_learn.KerasClassifier(build_fn =build_model, epochs=50, batch_size=32, verbose=2)"
   ]
  },
  {
   "cell_type": "code",
   "execution_count": 35,
   "metadata": {},
   "outputs": [
    {
     "data": {
      "text/plain": [
       "tensorflow.python.keras.wrappers.scikit_learn.KerasClassifier"
      ]
     },
     "execution_count": 35,
     "metadata": {},
     "output_type": "execute_result"
    }
   ],
   "source": [
    "type(keras_model)"
   ]
  },
  {
   "cell_type": "markdown",
   "metadata": {},
   "source": [
    "Now we can use sklearn methods like cross_val_score"
   ]
  },
  {
   "cell_type": "code",
   "execution_count": 36,
   "metadata": {},
   "outputs": [
    {
     "name": "stderr",
     "output_type": "stream",
     "text": [
      "C:\\Users\\maswagner\\Anaconda3\\envs\\learn-env\\lib\\site-packages\\sklearn\\model_selection\\_validation.py:548: FitFailedWarning: Estimator fit failed. The score on this train-test partition for these parameters will be set to nan. Details: \n",
      "Traceback (most recent call last):\n",
      "  File \"C:\\Users\\maswagner\\Anaconda3\\envs\\learn-env\\lib\\site-packages\\sklearn\\model_selection\\_validation.py\", line 531, in _fit_and_score\n",
      "    estimator.fit(X_train, y_train, **fit_params)\n",
      "  File \"C:\\Users\\maswagner\\Anaconda3\\envs\\learn-env\\lib\\site-packages\\tensorflow\\python\\keras\\wrappers\\scikit_learn.py\", line 223, in fit\n",
      "    return super(KerasClassifier, self).fit(x, y, **kwargs)\n",
      "  File \"C:\\Users\\maswagner\\Anaconda3\\envs\\learn-env\\lib\\site-packages\\tensorflow\\python\\keras\\wrappers\\scikit_learn.py\", line 159, in fit\n",
      "    if (losses.is_categorical_crossentropy(self.model.loss) and\n",
      "AttributeError: 'NoneType' object has no attribute 'loss'\n",
      "\n",
      "  warnings.warn(\"Estimator fit failed. The score on this train-test\"\n"
     ]
    },
    {
     "data": {
      "text/plain": [
       "array([nan, nan, nan, nan, nan])"
      ]
     },
     "execution_count": 36,
     "metadata": {},
     "output_type": "execute_result"
    }
   ],
   "source": [
    "cross_val_score(keras_model, X_pure_train, y_pure_train)"
   ]
  },
  {
   "cell_type": "markdown",
   "metadata": {},
   "source": [
    "## Level Up: Regularization"
   ]
  },
  {
   "cell_type": "markdown",
   "metadata": {},
   "source": [
    "Does regularization make sense in the context of neural networks? <br/>\n",
    "\n",
    "Yes! We still have all of the salient ingredients: a loss function, overfitting vs. underfitting, and coefficients (weights) that could get too large.\n",
    "\n",
    "But there are now a few different flavors besides L1 and L2 regularization. (Note that L1 regularization is not common in the context of  neural networks.)\n"
   ]
  },
  {
   "cell_type": "markdown",
   "metadata": {},
   "source": [
    "Stay tuned for next lecture where we'll talk about regularization in the context of neural networks."
   ]
  }
 ],
 "metadata": {
  "celltoolbar": "Raw Cell Format",
  "colab": {
   "collapsed_sections": [],
   "name": "intro-to-keras.ipynb",
   "provenance": []
  },
  "kernelspec": {
   "display_name": "Python (learn-env)",
   "language": "python",
   "name": "learn-env"
  },
  "language_info": {
   "codemirror_mode": {
    "name": "ipython",
    "version": 3
   },
   "file_extension": ".py",
   "mimetype": "text/x-python",
   "name": "python",
   "nbconvert_exporter": "python",
   "pygments_lexer": "ipython3",
   "version": "3.8.5"
  }
 },
 "nbformat": 4,
 "nbformat_minor": 4
}
